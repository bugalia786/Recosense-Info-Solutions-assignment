{
  "nbformat": 4,
  "nbformat_minor": 0,
  "metadata": {
    "colab": {
      "name": "Recosense_ML_Assignment.ipynb",
      "provenance": [],
      "collapsed_sections": [],
      "toc_visible": true
    },
    "kernelspec": {
      "name": "python3",
      "display_name": "Python 3"
    }
  },
  "cells": [
    {
      "cell_type": "markdown",
      "metadata": {
        "id": "TofnzgIunmDb"
      },
      "source": [
        "#There are total of 7 main catergories\r\n",
        "**1. 21 sub-categories**\r\n",
        "<br>\r\n",
        "**2. 41 different sub-categories**"
      ]
    },
    {
      "cell_type": "code",
      "metadata": {
        "id": "_R7fUJkJ_juN"
      },
      "source": [
        "import tensorflow as tf\r\n",
        "from tensorflow.keras.preprocessing.text import Tokenizer\r\n",
        "from nltk.tokenize import word_tokenize\r\n",
        "from tensorflow.keras.preprocessing.sequence import pad_sequences\r\n",
        "from tensorflow.keras.callbacks import EarlyStopping\r\n",
        "from tensorflow.keras.models import Sequential\r\n",
        "from tensorflow.keras.layers import Embedding, GlobalAveragePooling1D, Dense, Dropout, LSTM, Bidirectional\r\n",
        "import numpy as np\r\n",
        "import pandas as pd\r\n",
        "import matplotlib.pyplot as plt\r\n",
        "import re"
      ],
      "execution_count": 8,
      "outputs": []
    },
    {
      "cell_type": "code",
      "metadata": {
        "id": "sK8n5IAo_wO3"
      },
      "source": [
        "path = '/content/drive/MyDrive/data.csv' #this file path will change accordingly"
      ],
      "execution_count": 9,
      "outputs": []
    },
    {
      "cell_type": "code",
      "metadata": {
        "id": "sRvNM-ayqbAy"
      },
      "source": [
        ""
      ],
      "execution_count": 9,
      "outputs": []
    },
    {
      "cell_type": "code",
      "metadata": {
        "id": "WFloLUIz_yBs"
      },
      "source": [
        "df = pd.read_csv(path)"
      ],
      "execution_count": 10,
      "outputs": []
    },
    {
      "cell_type": "code",
      "metadata": {
        "colab": {
          "base_uri": "https://localhost:8080/",
          "height": 206
        },
        "id": "81McVYb4_zaR",
        "outputId": "7081706a-8317-43bb-f51f-6053c56f7d40"
      },
      "source": [
        "df.head()"
      ],
      "execution_count": 11,
      "outputs": [
        {
          "output_type": "execute_result",
          "data": {
            "text/html": [
              "<div>\n",
              "<style scoped>\n",
              "    .dataframe tbody tr th:only-of-type {\n",
              "        vertical-align: middle;\n",
              "    }\n",
              "\n",
              "    .dataframe tbody tr th {\n",
              "        vertical-align: top;\n",
              "    }\n",
              "\n",
              "    .dataframe thead th {\n",
              "        text-align: right;\n",
              "    }\n",
              "</style>\n",
              "<table border=\"1\" class=\"dataframe\">\n",
              "  <thead>\n",
              "    <tr style=\"text-align: right;\">\n",
              "      <th></th>\n",
              "      <th>image</th>\n",
              "      <th>name</th>\n",
              "      <th>classes</th>\n",
              "    </tr>\n",
              "  </thead>\n",
              "  <tbody>\n",
              "    <tr>\n",
              "      <th>0</th>\n",
              "      <td>5da821eb7f3e301b4504bb4a_0.jpg</td>\n",
              "      <td>Marc Jacobs Beauty  Eye-Conic Longwear Eyeshad...</td>\n",
              "      <td>beauty&lt;makeup&lt;eyeshadow</td>\n",
              "    </tr>\n",
              "    <tr>\n",
              "      <th>1</th>\n",
              "      <td>5da81cde7861c2af6a5a88cf_0.jpg</td>\n",
              "      <td>Marc Jacobs Beauty  Eye-Conic Longwear Eyeshad...</td>\n",
              "      <td>beauty&lt;makeup&lt;eyeshadow</td>\n",
              "    </tr>\n",
              "    <tr>\n",
              "      <th>2</th>\n",
              "      <td>5da8219a6504fb65da0050aa_0.jpg</td>\n",
              "      <td>Prada  Wool sweater</td>\n",
              "      <td>clothing&lt;knitwear&lt;fine knit</td>\n",
              "    </tr>\n",
              "    <tr>\n",
              "      <th>3</th>\n",
              "      <td>5da821856504fb65cea703cf_0.jpg</td>\n",
              "      <td>Prada  Printed silk-satin twill straight-leg p...</td>\n",
              "      <td>clothing&lt;pants&lt;straight leg</td>\n",
              "    </tr>\n",
              "    <tr>\n",
              "      <th>4</th>\n",
              "      <td>5da82200b25b035d1d17bec6_0.jpg</td>\n",
              "      <td>Prada  Cropped chain-trimmed printed crepe str...</td>\n",
              "      <td>clothing&lt;pants&lt;straight leg</td>\n",
              "    </tr>\n",
              "  </tbody>\n",
              "</table>\n",
              "</div>"
            ],
            "text/plain": [
              "                            image  ...                      classes\n",
              "0  5da821eb7f3e301b4504bb4a_0.jpg  ...      beauty<makeup<eyeshadow\n",
              "1  5da81cde7861c2af6a5a88cf_0.jpg  ...      beauty<makeup<eyeshadow\n",
              "2  5da8219a6504fb65da0050aa_0.jpg  ...  clothing<knitwear<fine knit\n",
              "3  5da821856504fb65cea703cf_0.jpg  ...  clothing<pants<straight leg\n",
              "4  5da82200b25b035d1d17bec6_0.jpg  ...  clothing<pants<straight leg\n",
              "\n",
              "[5 rows x 3 columns]"
            ]
          },
          "metadata": {
            "tags": []
          },
          "execution_count": 11
        }
      ]
    },
    {
      "cell_type": "code",
      "metadata": {
        "id": "v9c1p_3H_4Zj"
      },
      "source": [
        "df.drop('image',axis=1,inplace=True)"
      ],
      "execution_count": 12,
      "outputs": []
    },
    {
      "cell_type": "code",
      "metadata": {
        "colab": {
          "base_uri": "https://localhost:8080/",
          "height": 206
        },
        "id": "-R4w_TMV_9e-",
        "outputId": "01fe2264-70c3-40f0-f67b-0a13a9f4cf8d"
      },
      "source": [
        "df.head()"
      ],
      "execution_count": 13,
      "outputs": [
        {
          "output_type": "execute_result",
          "data": {
            "text/html": [
              "<div>\n",
              "<style scoped>\n",
              "    .dataframe tbody tr th:only-of-type {\n",
              "        vertical-align: middle;\n",
              "    }\n",
              "\n",
              "    .dataframe tbody tr th {\n",
              "        vertical-align: top;\n",
              "    }\n",
              "\n",
              "    .dataframe thead th {\n",
              "        text-align: right;\n",
              "    }\n",
              "</style>\n",
              "<table border=\"1\" class=\"dataframe\">\n",
              "  <thead>\n",
              "    <tr style=\"text-align: right;\">\n",
              "      <th></th>\n",
              "      <th>name</th>\n",
              "      <th>classes</th>\n",
              "    </tr>\n",
              "  </thead>\n",
              "  <tbody>\n",
              "    <tr>\n",
              "      <th>0</th>\n",
              "      <td>Marc Jacobs Beauty  Eye-Conic Longwear Eyeshad...</td>\n",
              "      <td>beauty&lt;makeup&lt;eyeshadow</td>\n",
              "    </tr>\n",
              "    <tr>\n",
              "      <th>1</th>\n",
              "      <td>Marc Jacobs Beauty  Eye-Conic Longwear Eyeshad...</td>\n",
              "      <td>beauty&lt;makeup&lt;eyeshadow</td>\n",
              "    </tr>\n",
              "    <tr>\n",
              "      <th>2</th>\n",
              "      <td>Prada  Wool sweater</td>\n",
              "      <td>clothing&lt;knitwear&lt;fine knit</td>\n",
              "    </tr>\n",
              "    <tr>\n",
              "      <th>3</th>\n",
              "      <td>Prada  Printed silk-satin twill straight-leg p...</td>\n",
              "      <td>clothing&lt;pants&lt;straight leg</td>\n",
              "    </tr>\n",
              "    <tr>\n",
              "      <th>4</th>\n",
              "      <td>Prada  Cropped chain-trimmed printed crepe str...</td>\n",
              "      <td>clothing&lt;pants&lt;straight leg</td>\n",
              "    </tr>\n",
              "  </tbody>\n",
              "</table>\n",
              "</div>"
            ],
            "text/plain": [
              "                                                name                      classes\n",
              "0  Marc Jacobs Beauty  Eye-Conic Longwear Eyeshad...      beauty<makeup<eyeshadow\n",
              "1  Marc Jacobs Beauty  Eye-Conic Longwear Eyeshad...      beauty<makeup<eyeshadow\n",
              "2                             Prada  Wool sweater     clothing<knitwear<fine knit\n",
              "3  Prada  Printed silk-satin twill straight-leg p...  clothing<pants<straight leg\n",
              "4  Prada  Cropped chain-trimmed printed crepe str...  clothing<pants<straight leg"
            ]
          },
          "metadata": {
            "tags": []
          },
          "execution_count": 13
        }
      ]
    },
    {
      "cell_type": "code",
      "metadata": {
        "id": "yprY4uco_-cw"
      },
      "source": [
        "c1 = []\r\n",
        "c2 = []\r\n",
        "c3 = []\r\n",
        "for i in range(len(df)):\r\n",
        "  a,b,c = df['classes'][i].split('<')\r\n",
        "  c1.append(a)\r\n",
        "  c2.append(b)\r\n",
        "  c3.append(c)"
      ],
      "execution_count": 14,
      "outputs": []
    },
    {
      "cell_type": "code",
      "metadata": {
        "id": "MYNsk_3JACfN"
      },
      "source": [
        "df['c1'] = c1\r\n",
        "df['c2'] = c2\r\n",
        "df['c3'] = c3"
      ],
      "execution_count": 15,
      "outputs": []
    },
    {
      "cell_type": "code",
      "metadata": {
        "colab": {
          "base_uri": "https://localhost:8080/",
          "height": 206
        },
        "id": "bIZqttNLAErr",
        "outputId": "dd3c915b-dc83-48e5-8bbe-c18f4e6b56ea"
      },
      "source": [
        "df.head()"
      ],
      "execution_count": 16,
      "outputs": [
        {
          "output_type": "execute_result",
          "data": {
            "text/html": [
              "<div>\n",
              "<style scoped>\n",
              "    .dataframe tbody tr th:only-of-type {\n",
              "        vertical-align: middle;\n",
              "    }\n",
              "\n",
              "    .dataframe tbody tr th {\n",
              "        vertical-align: top;\n",
              "    }\n",
              "\n",
              "    .dataframe thead th {\n",
              "        text-align: right;\n",
              "    }\n",
              "</style>\n",
              "<table border=\"1\" class=\"dataframe\">\n",
              "  <thead>\n",
              "    <tr style=\"text-align: right;\">\n",
              "      <th></th>\n",
              "      <th>name</th>\n",
              "      <th>classes</th>\n",
              "      <th>c1</th>\n",
              "      <th>c2</th>\n",
              "      <th>c3</th>\n",
              "    </tr>\n",
              "  </thead>\n",
              "  <tbody>\n",
              "    <tr>\n",
              "      <th>0</th>\n",
              "      <td>Marc Jacobs Beauty  Eye-Conic Longwear Eyeshad...</td>\n",
              "      <td>beauty&lt;makeup&lt;eyeshadow</td>\n",
              "      <td>beauty</td>\n",
              "      <td>makeup</td>\n",
              "      <td>eyeshadow</td>\n",
              "    </tr>\n",
              "    <tr>\n",
              "      <th>1</th>\n",
              "      <td>Marc Jacobs Beauty  Eye-Conic Longwear Eyeshad...</td>\n",
              "      <td>beauty&lt;makeup&lt;eyeshadow</td>\n",
              "      <td>beauty</td>\n",
              "      <td>makeup</td>\n",
              "      <td>eyeshadow</td>\n",
              "    </tr>\n",
              "    <tr>\n",
              "      <th>2</th>\n",
              "      <td>Prada  Wool sweater</td>\n",
              "      <td>clothing&lt;knitwear&lt;fine knit</td>\n",
              "      <td>clothing</td>\n",
              "      <td>knitwear</td>\n",
              "      <td>fine knit</td>\n",
              "    </tr>\n",
              "    <tr>\n",
              "      <th>3</th>\n",
              "      <td>Prada  Printed silk-satin twill straight-leg p...</td>\n",
              "      <td>clothing&lt;pants&lt;straight leg</td>\n",
              "      <td>clothing</td>\n",
              "      <td>pants</td>\n",
              "      <td>straight leg</td>\n",
              "    </tr>\n",
              "    <tr>\n",
              "      <th>4</th>\n",
              "      <td>Prada  Cropped chain-trimmed printed crepe str...</td>\n",
              "      <td>clothing&lt;pants&lt;straight leg</td>\n",
              "      <td>clothing</td>\n",
              "      <td>pants</td>\n",
              "      <td>straight leg</td>\n",
              "    </tr>\n",
              "  </tbody>\n",
              "</table>\n",
              "</div>"
            ],
            "text/plain": [
              "                                                name  ...            c3\n",
              "0  Marc Jacobs Beauty  Eye-Conic Longwear Eyeshad...  ...     eyeshadow\n",
              "1  Marc Jacobs Beauty  Eye-Conic Longwear Eyeshad...  ...     eyeshadow\n",
              "2                             Prada  Wool sweater     ...     fine knit\n",
              "3  Prada  Printed silk-satin twill straight-leg p...  ...  straight leg\n",
              "4  Prada  Cropped chain-trimmed printed crepe str...  ...  straight leg\n",
              "\n",
              "[5 rows x 5 columns]"
            ]
          },
          "metadata": {
            "tags": []
          },
          "execution_count": 16
        }
      ]
    },
    {
      "cell_type": "code",
      "metadata": {
        "id": "x0zEtG9fAGFo"
      },
      "source": [
        "df.drop('classes',axis=1,inplace=True)"
      ],
      "execution_count": 17,
      "outputs": []
    },
    {
      "cell_type": "code",
      "metadata": {
        "colab": {
          "base_uri": "https://localhost:8080/",
          "height": 206
        },
        "id": "xhLOTA5BALSH",
        "outputId": "8c1bb797-91c3-46d3-9645-65e683b61a20"
      },
      "source": [
        "df.head()"
      ],
      "execution_count": 18,
      "outputs": [
        {
          "output_type": "execute_result",
          "data": {
            "text/html": [
              "<div>\n",
              "<style scoped>\n",
              "    .dataframe tbody tr th:only-of-type {\n",
              "        vertical-align: middle;\n",
              "    }\n",
              "\n",
              "    .dataframe tbody tr th {\n",
              "        vertical-align: top;\n",
              "    }\n",
              "\n",
              "    .dataframe thead th {\n",
              "        text-align: right;\n",
              "    }\n",
              "</style>\n",
              "<table border=\"1\" class=\"dataframe\">\n",
              "  <thead>\n",
              "    <tr style=\"text-align: right;\">\n",
              "      <th></th>\n",
              "      <th>name</th>\n",
              "      <th>c1</th>\n",
              "      <th>c2</th>\n",
              "      <th>c3</th>\n",
              "    </tr>\n",
              "  </thead>\n",
              "  <tbody>\n",
              "    <tr>\n",
              "      <th>0</th>\n",
              "      <td>Marc Jacobs Beauty  Eye-Conic Longwear Eyeshad...</td>\n",
              "      <td>beauty</td>\n",
              "      <td>makeup</td>\n",
              "      <td>eyeshadow</td>\n",
              "    </tr>\n",
              "    <tr>\n",
              "      <th>1</th>\n",
              "      <td>Marc Jacobs Beauty  Eye-Conic Longwear Eyeshad...</td>\n",
              "      <td>beauty</td>\n",
              "      <td>makeup</td>\n",
              "      <td>eyeshadow</td>\n",
              "    </tr>\n",
              "    <tr>\n",
              "      <th>2</th>\n",
              "      <td>Prada  Wool sweater</td>\n",
              "      <td>clothing</td>\n",
              "      <td>knitwear</td>\n",
              "      <td>fine knit</td>\n",
              "    </tr>\n",
              "    <tr>\n",
              "      <th>3</th>\n",
              "      <td>Prada  Printed silk-satin twill straight-leg p...</td>\n",
              "      <td>clothing</td>\n",
              "      <td>pants</td>\n",
              "      <td>straight leg</td>\n",
              "    </tr>\n",
              "    <tr>\n",
              "      <th>4</th>\n",
              "      <td>Prada  Cropped chain-trimmed printed crepe str...</td>\n",
              "      <td>clothing</td>\n",
              "      <td>pants</td>\n",
              "      <td>straight leg</td>\n",
              "    </tr>\n",
              "  </tbody>\n",
              "</table>\n",
              "</div>"
            ],
            "text/plain": [
              "                                                name  ...            c3\n",
              "0  Marc Jacobs Beauty  Eye-Conic Longwear Eyeshad...  ...     eyeshadow\n",
              "1  Marc Jacobs Beauty  Eye-Conic Longwear Eyeshad...  ...     eyeshadow\n",
              "2                             Prada  Wool sweater     ...     fine knit\n",
              "3  Prada  Printed silk-satin twill straight-leg p...  ...  straight leg\n",
              "4  Prada  Cropped chain-trimmed printed crepe str...  ...  straight leg\n",
              "\n",
              "[5 rows x 4 columns]"
            ]
          },
          "metadata": {
            "tags": []
          },
          "execution_count": 18
        }
      ]
    },
    {
      "cell_type": "code",
      "metadata": {
        "id": "G8pz0L2cANoo"
      },
      "source": [
        "from sklearn.model_selection import train_test_split"
      ],
      "execution_count": 19,
      "outputs": []
    },
    {
      "cell_type": "code",
      "metadata": {
        "id": "7OS0PDTWAPxx"
      },
      "source": [
        "train_msg, test_msg, train_labels, test_labels = train_test_split(df['name'], df['c1'], test_size=0.2, random_state=434)"
      ],
      "execution_count": 20,
      "outputs": []
    },
    {
      "cell_type": "code",
      "metadata": {
        "id": "5MvSqRrrARdf"
      },
      "source": [
        "from sklearn.preprocessing import LabelEncoder\r\n",
        "from keras.utils import np_utils"
      ],
      "execution_count": 21,
      "outputs": []
    },
    {
      "cell_type": "code",
      "metadata": {
        "id": "YmSzYHsLAUFb"
      },
      "source": [
        "encoder = LabelEncoder()\r\n",
        "encoder.fit(train_labels)\r\n",
        "encoded_Y = encoder.transform(train_labels)\r\n",
        "# convert integers to dummy variables (i.e. one hot encoded)\r\n",
        "dummy_y = np_utils.to_categorical(encoded_Y)"
      ],
      "execution_count": 22,
      "outputs": []
    },
    {
      "cell_type": "code",
      "metadata": {
        "id": "0eGC83nOAWDk"
      },
      "source": [
        "encoder = LabelEncoder()\r\n",
        "encoder.fit(test_labels)\r\n",
        "encoded_Y_test = encoder.transform(test_labels)\r\n",
        "# convert integers to dummy variables (i.e. one hot encoded)\r\n",
        "dummy_y_test = np_utils.to_categorical(encoded_Y_test)"
      ],
      "execution_count": 23,
      "outputs": []
    },
    {
      "cell_type": "code",
      "metadata": {
        "id": "ANnCQKhSAXhE"
      },
      "source": [
        "max_len = 50 \r\n",
        "trunc_type = \"post\" \r\n",
        "padding_type = \"post\" \r\n",
        "oov_tok = \"<OOV>\" \r\n",
        "vocab_size = 500"
      ],
      "execution_count": 24,
      "outputs": []
    },
    {
      "cell_type": "code",
      "metadata": {
        "id": "oH2FsaWGAcir"
      },
      "source": [
        "tokenizer = Tokenizer(num_words = vocab_size, char_level=False, oov_token = oov_tok)\r\n",
        "tokenizer.fit_on_texts(train_msg)"
      ],
      "execution_count": 25,
      "outputs": []
    },
    {
      "cell_type": "code",
      "metadata": {
        "id": "_a3BWGIXAfgd"
      },
      "source": [
        "word_index = tokenizer.word_index\r\n",
        "# word_index"
      ],
      "execution_count": 26,
      "outputs": []
    },
    {
      "cell_type": "code",
      "metadata": {
        "id": "hThmhi4YAhwu"
      },
      "source": [
        "training_sequences = tokenizer.texts_to_sequences(train_msg)\r\n",
        "training_padded = pad_sequences (training_sequences, maxlen = max_len, padding = padding_type, truncating = trunc_type )\r\n",
        "testing_sequences = tokenizer.texts_to_sequences(test_msg)\r\n",
        "testing_padded = pad_sequences(testing_sequences, maxlen = max_len,\r\n",
        "padding = padding_type, truncating = trunc_type)"
      ],
      "execution_count": 27,
      "outputs": []
    },
    {
      "cell_type": "code",
      "metadata": {
        "id": "s9R4aBvmAkRa"
      },
      "source": [
        "embeding_dim = 16\r\n",
        "drop_value = 0.2 # dropout\r\n",
        "n_dense = 24"
      ],
      "execution_count": 28,
      "outputs": []
    },
    {
      "cell_type": "code",
      "metadata": {
        "id": "VOKmLwe8AopN"
      },
      "source": [
        "model = Sequential()\r\n",
        "model.add(Embedding(vocab_size, embeding_dim, input_length=max_len))\r\n",
        "model.add(GlobalAveragePooling1D())\r\n",
        "model.add(Dense(24, activation='relu'))\r\n",
        "model.add(Dropout(drop_value))\r\n",
        "model.add(Dense(7, activation='softmax'))\r\n",
        "model.compile(loss='categorical_crossentropy',optimizer='adam' ,metrics=['accuracy'])"
      ],
      "execution_count": 29,
      "outputs": []
    },
    {
      "cell_type": "code",
      "metadata": {
        "colab": {
          "base_uri": "https://localhost:8080/"
        },
        "id": "nV4d4U54AqBR",
        "outputId": "772bea16-9982-4587-94d9-1a2bf978badd"
      },
      "source": [
        "num_epochs = 20\r\n",
        "early_stop = EarlyStopping(monitor='val_loss', patience=3)\r\n",
        "history = model.fit(training_padded,dummy_y, epochs=num_epochs, validation_data=(testing_padded, dummy_y_test),callbacks =[early_stop], verbose=2)"
      ],
      "execution_count": 30,
      "outputs": [
        {
          "output_type": "stream",
          "text": [
            "Epoch 1/20\n",
            "1643/1643 - 3s - loss: 0.7586 - accuracy: 0.7622 - val_loss: 0.1951 - val_accuracy: 0.9710\n",
            "Epoch 2/20\n",
            "1643/1643 - 2s - loss: 0.1274 - accuracy: 0.9691 - val_loss: 0.0548 - val_accuracy: 0.9838\n",
            "Epoch 3/20\n",
            "1643/1643 - 2s - loss: 0.0532 - accuracy: 0.9850 - val_loss: 0.0285 - val_accuracy: 0.9931\n",
            "Epoch 4/20\n",
            "1643/1643 - 2s - loss: 0.0319 - accuracy: 0.9916 - val_loss: 0.0181 - val_accuracy: 0.9961\n",
            "Epoch 5/20\n",
            "1643/1643 - 2s - loss: 0.0221 - accuracy: 0.9946 - val_loss: 0.0145 - val_accuracy: 0.9967\n",
            "Epoch 6/20\n",
            "1643/1643 - 2s - loss: 0.0167 - accuracy: 0.9960 - val_loss: 0.0113 - val_accuracy: 0.9973\n",
            "Epoch 7/20\n",
            "1643/1643 - 2s - loss: 0.0138 - accuracy: 0.9966 - val_loss: 0.0094 - val_accuracy: 0.9970\n",
            "Epoch 8/20\n",
            "1643/1643 - 2s - loss: 0.0109 - accuracy: 0.9974 - val_loss: 0.0078 - val_accuracy: 0.9980\n",
            "Epoch 9/20\n",
            "1643/1643 - 2s - loss: 0.0095 - accuracy: 0.9975 - val_loss: 0.0069 - val_accuracy: 0.9982\n",
            "Epoch 10/20\n",
            "1643/1643 - 2s - loss: 0.0081 - accuracy: 0.9979 - val_loss: 0.0059 - val_accuracy: 0.9985\n",
            "Epoch 11/20\n",
            "1643/1643 - 2s - loss: 0.0072 - accuracy: 0.9982 - val_loss: 0.0053 - val_accuracy: 0.9987\n",
            "Epoch 12/20\n",
            "1643/1643 - 2s - loss: 0.0061 - accuracy: 0.9985 - val_loss: 0.0053 - val_accuracy: 0.9988\n",
            "Epoch 13/20\n",
            "1643/1643 - 2s - loss: 0.0059 - accuracy: 0.9985 - val_loss: 0.0051 - val_accuracy: 0.9987\n",
            "Epoch 14/20\n",
            "1643/1643 - 2s - loss: 0.0052 - accuracy: 0.9988 - val_loss: 0.0044 - val_accuracy: 0.9991\n",
            "Epoch 15/20\n",
            "1643/1643 - 2s - loss: 0.0052 - accuracy: 0.9986 - val_loss: 0.0041 - val_accuracy: 0.9989\n",
            "Epoch 16/20\n",
            "1643/1643 - 2s - loss: 0.0047 - accuracy: 0.9988 - val_loss: 0.0039 - val_accuracy: 0.9989\n",
            "Epoch 17/20\n",
            "1643/1643 - 2s - loss: 0.0047 - accuracy: 0.9987 - val_loss: 0.0045 - val_accuracy: 0.9986\n",
            "Epoch 18/20\n",
            "1643/1643 - 2s - loss: 0.0037 - accuracy: 0.9990 - val_loss: 0.0039 - val_accuracy: 0.9991\n",
            "Epoch 19/20\n",
            "1643/1643 - 2s - loss: 0.0043 - accuracy: 0.9989 - val_loss: 0.0032 - val_accuracy: 0.9992\n",
            "Epoch 20/20\n",
            "1643/1643 - 2s - loss: 0.0036 - accuracy: 0.9989 - val_loss: 0.0032 - val_accuracy: 0.9992\n"
          ],
          "name": "stdout"
        }
      ]
    },
    {
      "cell_type": "code",
      "metadata": {
        "colab": {
          "base_uri": "https://localhost:8080/",
          "height": 282
        },
        "id": "EHWd-sf1Ar72",
        "outputId": "d2e572a2-1770-4734-acdc-e77611e0eb37"
      },
      "source": [
        "plt.plot(history.history['val_loss'])"
      ],
      "execution_count": 31,
      "outputs": [
        {
          "output_type": "execute_result",
          "data": {
            "text/plain": [
              "[<matplotlib.lines.Line2D at 0x7f5713ff0128>]"
            ]
          },
          "metadata": {
            "tags": []
          },
          "execution_count": 31
        },
        {
          "output_type": "display_data",
          "data": {
            "image/png": "[encoded data removed]",
            "text/plain": [
              "<Figure size 432x288 with 1 Axes>"
            ]
          },
          "metadata": {
            "tags": [],
            "needs_background": "light"
          }
        }
      ]
    },
    {
      "cell_type": "code",
      "metadata": {
        "id": "f4oyT7BQC4lD"
      },
      "source": [
        "train_msg_1, test_msg_1, train_labels_1, test_labels_1 = train_test_split(df['name'], df['c2'], test_size=0.2, random_state=434)"
      ],
      "execution_count": 32,
      "outputs": []
    },
    {
      "cell_type": "code",
      "metadata": {
        "id": "aC3i2znpA8Kg"
      },
      "source": [
        "encoder_1 = LabelEncoder()\r\n",
        "encoder_1.fit(train_labels_1)\r\n",
        "encoded_Y_1 = encoder_1.transform(train_labels_1)\r\n",
        "# convert integers to dummy variables (i.e. one hot encoded)\r\n",
        "dummy_y_1 = np_utils.to_categorical(encoded_Y_1)\r\n",
        "\r\n",
        "encoder_1 = LabelEncoder()\r\n",
        "encoder_1.fit(test_labels_1)\r\n",
        "encoded_Y_test_1 = encoder_1.transform(test_labels_1)\r\n",
        "# convert integers to dummy variables (i.e. one hot encoded)\r\n",
        "dummy_y_test_1 = np_utils.to_categorical(encoded_Y_test_1)\r\n",
        "\r\n",
        "tokenizer = Tokenizer(num_words = vocab_size, char_level=False, oov_token = oov_tok)\r\n",
        "tokenizer.fit_on_texts(train_msg_1)\r\n",
        "\r\n",
        "training_sequences_1 = tokenizer.texts_to_sequences(train_msg_1)\r\n",
        "training_padded_1 = pad_sequences (training_sequences_1, maxlen = max_len, padding = padding_type, truncating = trunc_type )\r\n",
        "testing_sequences_1 = tokenizer.texts_to_sequences(test_msg_1)\r\n",
        "testing_padded_1 = pad_sequences(testing_sequences_1, maxlen = max_len, padding = padding_type, truncating = trunc_type)\r\n",
        "\r\n",
        "model1 = Sequential()\r\n",
        "model1.add(Embedding(vocab_size, embeding_dim, input_length=max_len))\r\n",
        "model1.add(GlobalAveragePooling1D())\r\n",
        "model1.add(Dense(24, activation='relu'))\r\n",
        "model1.add(Dropout(drop_value))\r\n",
        "model1.add(Dense(21, activation='softmax'))\r\n",
        "model1.compile(loss='categorical_crossentropy',optimizer='adam' ,metrics=['accuracy'])"
      ],
      "execution_count": 33,
      "outputs": []
    },
    {
      "cell_type": "code",
      "metadata": {
        "colab": {
          "base_uri": "https://localhost:8080/"
        },
        "id": "bCBdrYguCFbD",
        "outputId": "3b22f13c-bc7e-4c5d-94f0-98b97263a4d7"
      },
      "source": [
        "num_epochs = 20\r\n",
        "early_stop = EarlyStopping(monitor='val_loss', patience=3)\r\n",
        "history_1 = model1.fit(training_padded_1,dummy_y_1, epochs=num_epochs, validation_data=(testing_padded_1, dummy_y_test_1),callbacks =[early_stop], verbose=2)"
      ],
      "execution_count": 34,
      "outputs": [
        {
          "output_type": "stream",
          "text": [
            "Epoch 1/20\n",
            "1643/1643 - 3s - loss: 2.1105 - accuracy: 0.3645 - val_loss: 1.2300 - val_accuracy: 0.6904\n",
            "Epoch 2/20\n",
            "1643/1643 - 2s - loss: 0.9678 - accuracy: 0.7080 - val_loss: 0.5897 - val_accuracy: 0.8377\n",
            "Epoch 3/20\n",
            "1643/1643 - 2s - loss: 0.5787 - accuracy: 0.8300 - val_loss: 0.3615 - val_accuracy: 0.9085\n",
            "Epoch 4/20\n",
            "1643/1643 - 2s - loss: 0.4168 - accuracy: 0.8828 - val_loss: 0.2750 - val_accuracy: 0.9283\n",
            "Epoch 5/20\n",
            "1643/1643 - 2s - loss: 0.3408 - accuracy: 0.9043 - val_loss: 0.2321 - val_accuracy: 0.9373\n",
            "Epoch 6/20\n",
            "1643/1643 - 2s - loss: 0.2951 - accuracy: 0.9182 - val_loss: 0.2088 - val_accuracy: 0.9439\n",
            "Epoch 7/20\n",
            "1643/1643 - 2s - loss: 0.2629 - accuracy: 0.9269 - val_loss: 0.1898 - val_accuracy: 0.9477\n",
            "Epoch 8/20\n",
            "1643/1643 - 2s - loss: 0.2357 - accuracy: 0.9332 - val_loss: 0.1768 - val_accuracy: 0.9512\n",
            "Epoch 9/20\n",
            "1643/1643 - 2s - loss: 0.2168 - accuracy: 0.9388 - val_loss: 0.1665 - val_accuracy: 0.9511\n",
            "Epoch 10/20\n",
            "1643/1643 - 2s - loss: 0.2043 - accuracy: 0.9433 - val_loss: 0.1628 - val_accuracy: 0.9533\n",
            "Epoch 11/20\n",
            "1643/1643 - 2s - loss: 0.1941 - accuracy: 0.9448 - val_loss: 0.1559 - val_accuracy: 0.9539\n",
            "Epoch 12/20\n",
            "1643/1643 - 2s - loss: 0.1854 - accuracy: 0.9465 - val_loss: 0.1486 - val_accuracy: 0.9560\n",
            "Epoch 13/20\n",
            "1643/1643 - 2s - loss: 0.1782 - accuracy: 0.9480 - val_loss: 0.1468 - val_accuracy: 0.9569\n",
            "Epoch 14/20\n",
            "1643/1643 - 2s - loss: 0.1715 - accuracy: 0.9499 - val_loss: 0.1411 - val_accuracy: 0.9579\n",
            "Epoch 15/20\n",
            "1643/1643 - 2s - loss: 0.1651 - accuracy: 0.9520 - val_loss: 0.1388 - val_accuracy: 0.9591\n",
            "Epoch 16/20\n",
            "1643/1643 - 2s - loss: 0.1620 - accuracy: 0.9523 - val_loss: 0.1360 - val_accuracy: 0.9599\n",
            "Epoch 17/20\n",
            "1643/1643 - 2s - loss: 0.1573 - accuracy: 0.9542 - val_loss: 0.1329 - val_accuracy: 0.9602\n",
            "Epoch 18/20\n",
            "1643/1643 - 2s - loss: 0.1540 - accuracy: 0.9543 - val_loss: 0.1287 - val_accuracy: 0.9607\n",
            "Epoch 19/20\n",
            "1643/1643 - 2s - loss: 0.1495 - accuracy: 0.9556 - val_loss: 0.1275 - val_accuracy: 0.9607\n",
            "Epoch 20/20\n",
            "1643/1643 - 2s - loss: 0.1466 - accuracy: 0.9553 - val_loss: 0.1274 - val_accuracy: 0.9605\n"
          ],
          "name": "stdout"
        }
      ]
    },
    {
      "cell_type": "code",
      "metadata": {
        "id": "liWTvdWbCisz"
      },
      "source": [
        "train_msg_2, test_msg_2, train_labels_2, test_labels_2 = train_test_split(df['name'], df['c3'], test_size=0.2, random_state=434)"
      ],
      "execution_count": 35,
      "outputs": []
    },
    {
      "cell_type": "code",
      "metadata": {
        "id": "gMoK6bBkDHdH"
      },
      "source": [
        "encoder_2 = LabelEncoder()\r\n",
        "encoder_2.fit(train_labels_2)\r\n",
        "encoded_Y_2 = encoder_2.transform(train_labels_2)\r\n",
        "# convert integers to dummy variables (i.e. one hot encoded)\r\n",
        "dummy_y_2 = np_utils.to_categorical(encoded_Y_2)\r\n",
        "\r\n",
        "encoder_2 = LabelEncoder()\r\n",
        "encoder_2.fit(test_labels_2)\r\n",
        "encoded_Y_test_2 = encoder_2.transform(test_labels_2)\r\n",
        "# convert integers to dummy variables (i.e. one hot encoded)\r\n",
        "dummy_y_test_2 = np_utils.to_categorical(encoded_Y_test_2)\r\n",
        "\r\n",
        "tokenizer = Tokenizer(num_words = vocab_size, char_level=False, oov_token = oov_tok)\r\n",
        "tokenizer.fit_on_texts(train_msg_2)\r\n",
        "\r\n",
        "training_sequences_2 = tokenizer.texts_to_sequences(train_msg_2)\r\n",
        "training_padded_2 = pad_sequences (training_sequences_2, maxlen = max_len, padding = padding_type, truncating = trunc_type )\r\n",
        "testing_sequences_2 = tokenizer.texts_to_sequences(test_msg_2)\r\n",
        "testing_padded_2 = pad_sequences(testing_sequences_2, maxlen = max_len, padding = padding_type, truncating = trunc_type)\r\n",
        "\r\n",
        "model2 = Sequential()\r\n",
        "model2.add(Embedding(vocab_size, embeding_dim, input_length=max_len))\r\n",
        "model2.add(GlobalAveragePooling1D())\r\n",
        "model2.add(Dense(48, activation='relu'))\r\n",
        "model2.add(Dropout(drop_value))\r\n",
        "model2.add(Dense(24, activation='relu'))\r\n",
        "model2.add(Dropout(drop_value))\r\n",
        "model2.add(Dense(41, activation='softmax'))\r\n",
        "model2.compile(loss='categorical_crossentropy',optimizer='adam' ,metrics=['accuracy'])"
      ],
      "execution_count": 36,
      "outputs": []
    },
    {
      "cell_type": "code",
      "metadata": {
        "colab": {
          "base_uri": "https://localhost:8080/"
        },
        "id": "QcZS1IHaL-99",
        "outputId": "318b3ac9-7225-4123-ca51-95c30b3355a4"
      },
      "source": [
        "num_epochs = 20\r\n",
        "early_stop = EarlyStopping(monitor='val_loss', patience=3)\r\n",
        "history_2 = model2.fit(training_padded_2,dummy_y_2, epochs=num_epochs, validation_data=(testing_padded_2, dummy_y_test_2),callbacks =[early_stop], verbose=2)"
      ],
      "execution_count": 37,
      "outputs": [
        {
          "output_type": "stream",
          "text": [
            "Epoch 1/20\n",
            "1643/1643 - 3s - loss: 2.8226 - accuracy: 0.2090 - val_loss: 1.6217 - val_accuracy: 0.5255\n",
            "Epoch 2/20\n",
            "1643/1643 - 2s - loss: 1.3947 - accuracy: 0.5686 - val_loss: 0.9356 - val_accuracy: 0.7409\n",
            "Epoch 3/20\n",
            "1643/1643 - 2s - loss: 1.0612 - accuracy: 0.6747 - val_loss: 0.7789 - val_accuracy: 0.7665\n",
            "Epoch 4/20\n",
            "1643/1643 - 2s - loss: 0.9292 - accuracy: 0.7077 - val_loss: 0.6978 - val_accuracy: 0.7873\n",
            "Epoch 5/20\n",
            "1643/1643 - 2s - loss: 0.8609 - accuracy: 0.7272 - val_loss: 0.6561 - val_accuracy: 0.8000\n",
            "Epoch 6/20\n",
            "1643/1643 - 2s - loss: 0.8020 - accuracy: 0.7415 - val_loss: 0.6250 - val_accuracy: 0.7966\n",
            "Epoch 7/20\n",
            "1643/1643 - 2s - loss: 0.7566 - accuracy: 0.7555 - val_loss: 0.6028 - val_accuracy: 0.8096\n",
            "Epoch 8/20\n",
            "1643/1643 - 2s - loss: 0.7168 - accuracy: 0.7649 - val_loss: 0.5649 - val_accuracy: 0.8194\n",
            "Epoch 9/20\n",
            "1643/1643 - 2s - loss: 0.6941 - accuracy: 0.7736 - val_loss: 0.5466 - val_accuracy: 0.8251\n",
            "Epoch 10/20\n",
            "1643/1643 - 2s - loss: 0.6656 - accuracy: 0.7832 - val_loss: 0.5316 - val_accuracy: 0.8296\n",
            "Epoch 11/20\n",
            "1643/1643 - 2s - loss: 0.6473 - accuracy: 0.7880 - val_loss: 0.5233 - val_accuracy: 0.8283\n",
            "Epoch 12/20\n",
            "1643/1643 - 2s - loss: 0.6269 - accuracy: 0.7914 - val_loss: 0.5042 - val_accuracy: 0.8315\n",
            "Epoch 13/20\n",
            "1643/1643 - 2s - loss: 0.6116 - accuracy: 0.7970 - val_loss: 0.4978 - val_accuracy: 0.8362\n",
            "Epoch 14/20\n",
            "1643/1643 - 2s - loss: 0.6017 - accuracy: 0.7990 - val_loss: 0.5052 - val_accuracy: 0.8309\n",
            "Epoch 15/20\n",
            "1643/1643 - 2s - loss: 0.5896 - accuracy: 0.8018 - val_loss: 0.4805 - val_accuracy: 0.8375\n",
            "Epoch 16/20\n",
            "1643/1643 - 2s - loss: 0.5803 - accuracy: 0.8051 - val_loss: 0.4727 - val_accuracy: 0.8395\n",
            "Epoch 17/20\n",
            "1643/1643 - 2s - loss: 0.5685 - accuracy: 0.8073 - val_loss: 0.4641 - val_accuracy: 0.8441\n",
            "Epoch 18/20\n",
            "1643/1643 - 2s - loss: 0.5622 - accuracy: 0.8076 - val_loss: 0.4567 - val_accuracy: 0.8408\n",
            "Epoch 19/20\n",
            "1643/1643 - 2s - loss: 0.5495 - accuracy: 0.8109 - val_loss: 0.4535 - val_accuracy: 0.8434\n",
            "Epoch 20/20\n",
            "1643/1643 - 2s - loss: 0.5441 - accuracy: 0.8144 - val_loss: 0.4631 - val_accuracy: 0.8440\n"
          ],
          "name": "stdout"
        }
      ]
    },
    {
      "cell_type": "code",
      "metadata": {
        "id": "zlaN_6EyMI5j"
      },
      "source": [
        "def predict_(inpt):\r\n",
        "  training_ = tokenizer.texts_to_sequences(inpt)\r\n",
        "  tr_padded = pad_sequences(training_, maxlen = max_len, padding = padding_type, truncating = trunc_type )\r\n",
        "  a = np.argmax(model.predict(tr_padded.reshape([1,50])))\r\n",
        "  prob_a = model.predict(tr_padded.reshape([1,50])).max()/(model.predict(tr_padded.reshape([1,50])).sum())\r\n",
        " \r\n",
        "  b = np.argmax(model1.predict(tr_padded.reshape([1,50])))\r\n",
        "  prob_b = model1.predict(tr_padded.reshape([1,50])).max()/(model1.predict(tr_padded.reshape([1,50])).sum())\r\n",
        " \r\n",
        "  c = np.argmax(model2.predict(tr_padded.reshape([1,50])))\r\n",
        "  prob_c = model2.predict(tr_padded.reshape([1,50])).max()/(model2.predict(tr_padded.reshape([1,50])).sum())\r\n",
        " \r\n",
        "  a1 = encoder.inverse_transform([a])\r\n",
        "  a2 = encoder_1.inverse_transform([b])\r\n",
        "  a3 = encoder_2.inverse_transform([c])\r\n",
        " \r\n",
        "  d = {'type':[a1[0],{'probability':prob_a}],'sub-type':[a2[0],{'probability':prob_b}],'additional':[a3[0],{'probability':prob_c}]}\r\n",
        "  print(d)"
      ],
      "execution_count": 38,
      "outputs": []
    },
    {
      "cell_type": "code",
      "metadata": {
        "colab": {
          "base_uri": "https://localhost:8080/"
        },
        "id": "nf5sr95Wb_Dg",
        "outputId": "450c1554-0ae6-418c-e5c2-d0a181e7334d"
      },
      "source": [
        "print([test_msg[1]])\r\n",
        "print()\r\n",
        "print('Predicted Values and Probability')\r\n",
        "predict_([test_msg[1]])\r\n",
        "print('-----------------------------------------------------------------------------------------------------------------------------------------------------------------------')\r\n",
        "print()\r\n",
        "print('Actual Values')\r\n",
        "print()\r\n",
        "print(test_labels[1])\r\n",
        "print(test_labels_1[1])\r\n",
        "print(test_labels_2[1])"
      ],
      "execution_count": 40,
      "outputs": [
        {
          "output_type": "stream",
          "text": [
            "['Marc Jacobs Beauty  Eye-Conic Longwear Eyeshadow Palette - Provocouture 710  ']\n",
            "\n",
            "Predicted Values and Probability\n",
            "{'type': ['beauty', {'probability': 1.0}], 'sub-type': ['makeup', {'probability': 0.99997425}], 'additional': ['eyeshadow', {'probability': 0.7925428}]}\n",
            "-----------------------------------------------------------------------------------------------------------------------------------------------------------------------\n",
            "\n",
            "Actual Values\n",
            "\n",
            "beauty\n",
            "makeup\n",
            "eyeshadow\n"
          ],
          "name": "stdout"
        }
      ]
    },
    {
      "cell_type": "code",
      "metadata": {
        "id": "yyjKi4ZinV52"
      },
      "source": [
        ""
      ],
      "execution_count": 39,
      "outputs": []
    }
  ]
}